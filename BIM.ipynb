{
  "nbformat": 4,
  "nbformat_minor": 0,
  "metadata": {
    "colab": {
      "provenance": []
    },
    "kernelspec": {
      "name": "python3",
      "display_name": "Python 3"
    },
    "language_info": {
      "name": "python"
    }
  },
  "cells": [
    {
      "cell_type": "code",
      "execution_count": 1,
      "metadata": {
        "colab": {
          "base_uri": "https://localhost:8080/"
        },
        "id": "VAF8jHkLMqmc",
        "outputId": "81caedf3-f52e-4513-b805-5c80e362a6fe"
      },
      "outputs": [
        {
          "output_type": "stream",
          "name": "stdout",
          "text": [
            "Mounted at /content/drive\n"
          ]
        }
      ],
      "source": [
        "from google.colab import drive\n",
        "drive.mount('/content/drive')\n"
      ]
    },
    {
      "cell_type": "code",
      "source": [
        "import os\n",
        "import re\n",
        "import random\n",
        "import math\n",
        "from collections import defaultdict\n",
        "\n",
        "def preprocess(text):\n",
        "    return re.findall(r'\\b\\w+\\b', text.lower())\n",
        "\n",
        "def load_documents(folder_path):\n",
        "    docs = {}\n",
        "    for filename in os.listdir(folder_path):\n",
        "        if filename.endswith('.txt'):\n",
        "            with open(os.path.join(folder_path, filename), 'r') as file:\n",
        "                docs[filename] = preprocess(file.read())\n",
        "    return docs\n",
        "\n",
        "def load_queries(query_file_path):\n",
        "    with open(query_file_path, 'r') as file:\n",
        "        return [line.strip() for line in file.readlines()]"
      ],
      "metadata": {
        "id": "1Q28jIUxMtPM"
      },
      "execution_count": 2,
      "outputs": []
    },
    {
      "cell_type": "code",
      "source": [
        "def assign_random_relevance(queries, documents, relevance_scale=(0, 1)):\n",
        "    relevance_scores = {}\n",
        "    for query in queries:\n",
        "        relevance_scores[query] = {}\n",
        "        for doc in documents:\n",
        "            relevance_scores[query][doc] = random.randint(relevance_scale[0], relevance_scale[1])\n",
        "    return relevance_scores"
      ],
      "metadata": {
        "id": "263ap9odM65G"
      },
      "execution_count": 3,
      "outputs": []
    },
    {
      "cell_type": "code",
      "source": [
        "def assign_random_relevance(queries, documents, relevance_scale=(0, 1)):\n",
        "    relevance_scores = {}\n",
        "    for query in queries:\n",
        "        relevance_scores[query] = {}\n",
        "        for doc in documents:\n",
        "            relevance_scores[query][doc] = random.randint(relevance_scale[0], relevance_scale[1])\n",
        "    return relevance_scores\n",
        "\n",
        "def save_relevance_scores_to_file(relevance_scores, output_file):\n",
        "    with open(output_file, 'w') as f:\n",
        "        for query, doc_scores in relevance_scores.items():\n",
        "            for doc, score in doc_scores.items():\n",
        "                f.write(f\"{query},{doc},{score}\\n\")\n"
      ],
      "metadata": {
        "id": "djz7SG_KM9lz"
      },
      "execution_count": 4,
      "outputs": []
    },
    {
      "cell_type": "code",
      "source": [
        "def load_relevance_scores(file_path):\n",
        "    relevance_scores = defaultdict(lambda: defaultdict(int))\n",
        "    with open(file_path, 'r') as f:\n",
        "        for line in f:\n",
        "            line = line.strip()\n",
        "            if line:\n",
        "                parts = line.split(',')  # Assuming comma as the delimiter\n",
        "                if len(parts) >= 3:  # Check if there are at least 3 values\n",
        "                    query, doc, score = parts[:3]  # Take the first 3 values\n",
        "                    try:\n",
        "                        relevance_scores[query][doc] = int(score)\n",
        "                    except ValueError:\n",
        "                        print(f\"Warning: Could not convert score to integer for query '{query}', doc '{doc}', score '{score}'\")\n",
        "    return relevance_scores"
      ],
      "metadata": {
        "id": "XpAOowtUNc9r"
      },
      "execution_count": 5,
      "outputs": []
    },
    {
      "cell_type": "code",
      "source": [
        "def tokenize(text):\n",
        "    # Simple tokenization by splitting on whitespace\n",
        "    return text.lower().split()"
      ],
      "metadata": {
        "id": "NYR2Gp13Nf-h"
      },
      "execution_count": 6,
      "outputs": []
    },
    {
      "cell_type": "code",
      "source": [
        "def create_inverted_index(documents):\n",
        "    inverted_index = defaultdict(set)\n",
        "    for doc_id, content in documents.items():\n",
        "        # content is a list of words, so join them back into a string\n",
        "        content_str = ' '.join(content)\n",
        "        for term in tokenize(content_str):\n",
        "            inverted_index[term].add(doc_id)\n",
        "    return inverted_index"
      ],
      "metadata": {
        "id": "VRutL6ybNihr"
      },
      "execution_count": 7,
      "outputs": []
    },
    {
      "cell_type": "code",
      "source": [
        "def calculate_term_probabilities(relevance_scores, inverted_index, documents):\n",
        "    term_probs = {}\n",
        "    num_relevant = sum(1 for scores in relevance_scores.values() for score in scores.values() if score == 1)\n",
        "    num_nonrelevant = sum(1 for scores in relevance_scores.values() for score in scores.values() if score == 0)\n",
        "\n",
        "    # Smoothing parameter\n",
        "    alpha = 0.01  # Reduced Laplace smoothing parameter\n",
        "\n",
        "    for term, doc_ids in inverted_index.items():\n",
        "        relevant_with_term = sum(1 for query, scores in relevance_scores.items() for doc in doc_ids if scores.get(doc, 0) == 1)\n",
        "        nonrelevant_with_term = sum(1 for query, scores in relevance_scores.items() for doc in doc_ids if scores.get(doc, 0) == 0)\n",
        "\n",
        "        # Apply Laplace smoothing\n",
        "        p_t_r = (relevant_with_term + alpha) / (num_relevant + 2 * alpha)\n",
        "        p_t_nr = (nonrelevant_with_term + alpha) / (num_nonrelevant + 2 * alpha)\n",
        "\n",
        "        # Ensure probabilities are within valid range\n",
        "        p_t_r = max(1e-10, min(1 - 1e-10, p_t_r))\n",
        "        p_t_nr = max(1e-10, min(1 - 1e-10, p_t_nr))\n",
        "\n",
        "        term_probs[term] = (p_t_r, p_t_nr)\n",
        "\n",
        "    return term_probs"
      ],
      "metadata": {
        "id": "f7qlTEahNkrX"
      },
      "execution_count": 8,
      "outputs": []
    },
    {
      "cell_type": "code",
      "source": [
        "def binary_independence_model(query, documents, term_probs, inverted_index):\n",
        "    scores = defaultdict(float)\n",
        "    query_terms = set(tokenize(query))\n",
        "\n",
        "    # Smoothing parameter\n",
        "    alpha = 0.01  # Reduced Laplace smoothing parameter\n",
        "\n",
        "    for doc_id, content in documents.items():\n",
        "        doc_terms = set(content)  # content is already a list of words\n",
        "\n",
        "        for term in query_terms:\n",
        "            if term in term_probs:\n",
        "                p_t_r, p_t_nr = term_probs[term]\n",
        "\n",
        "                # Apply Laplace smoothing\n",
        "                p_t_r = (p_t_r * len(documents) + alpha) / (len(documents) + 2 * alpha)\n",
        "                p_t_nr = (p_t_nr * len(documents) + alpha) / (len(documents) + 2 * alpha)\n",
        "\n",
        "                # Ensure probabilities are within valid range\n",
        "                p_t_r = max(1e-10, min(1 - 1e-10, p_t_r))\n",
        "                p_t_nr = max(1e-10, min(1 - 1e-10, p_t_nr))\n",
        "\n",
        "                if term in doc_terms:\n",
        "                    scores[doc_id] += math.log((p_t_r * (1 - p_t_nr)) / (p_t_nr * (1 - p_t_r)))\n",
        "                else:\n",
        "                    scores[doc_id] += math.log((1 - p_t_r) / (1 - p_t_nr))\n",
        "\n",
        "    # Normalize scores\n",
        "    if scores:\n",
        "        min_score = min(scores.values())\n",
        "        max_score = max(scores.values())\n",
        "        for doc_id in scores:\n",
        "            if max_score > min_score:\n",
        "                scores[doc_id] = (scores[doc_id] - min_score) / (max_score - min_score)\n",
        "            else:\n",
        "                scores[doc_id] = 0\n",
        "\n",
        "    return sorted(scores.items(), key=lambda x: x[1], reverse=True)"
      ],
      "metadata": {
        "id": "YhcRhvOkOTxz"
      },
      "execution_count": 9,
      "outputs": []
    },
    {
      "cell_type": "code",
      "source": [
        "def save_model_results(results, output_file):\n",
        "    with open(output_file, 'w') as f:\n",
        "        for query, doc_scores in results.items():\n",
        "            f.write(f\"Query: {query}\\n\")\n",
        "            for doc_id, score in doc_scores:\n",
        "                f.write(f\"{doc_id},{score}\\n\")\n",
        "            f.write(\"\\n\")"
      ],
      "metadata": {
        "id": "2L7Bn6TBOXCH"
      },
      "execution_count": 10,
      "outputs": []
    },
    {
      "cell_type": "code",
      "source": [
        "\n"
      ],
      "metadata": {
        "colab": {
          "base_uri": "https://localhost:8080/"
        },
        "id": "8meZxZxKQ3dk",
        "outputId": "23680916-59a5-477e-8afb-dedca86b92c8"
      },
      "execution_count": 14,
      "outputs": [
        {
          "output_type": "stream",
          "name": "stdout",
          "text": [
            "Drive already mounted at /content/drive; to attempt to forcibly remount, call drive.mount(\"/content/drive\", force_remount=True).\n",
            "Folder not found. Please check the path.\n"
          ]
        }
      ]
    },
    {
      "cell_type": "code",
      "source": [
        "def main():\n",
        "  # Updated paths based on your provided folder structure\n",
        "  folder_path = '/content/drive/MyDrive/TECH 400 Information Retrieval/cars'\n",
        "  query_file_path = '/content/drive/MyDrive/TECH 400 Information Retrieval/queries_car.txt'\n",
        "  output_file = '/content/drive/MyDrive/TECH 400 Information Retrieval/result/query_relevance_score.txt'\n",
        "  model_results_file = '/content/drive/MyDrive/TECH 400 Information Retrieval/result/bim_model_results.txt'\n",
        "\n",
        "  # Load documents and queries\n",
        "  documents = load_documents(folder_path)\n",
        "  queries = load_queries(query_file_path)\n",
        "\n",
        "  # Assign random relevance scores to documents\n",
        "  random_relevance_scores = assign_random_relevance(queries, documents.keys())\n",
        "\n",
        "  # Save the relevance scores to a file\n",
        "  save_relevance_scores_to_file(random_relevance_scores, output_file)\n",
        "  print(f\"Relevance scores saved to {output_file}\")\n",
        "\n",
        "  # Load relevance scores\n",
        "  relevance_scores = load_relevance_scores(output_file)\n",
        "\n",
        "  # Create inverted index from the documents\n",
        "  inverted_index = create_inverted_index(documents)\n",
        "\n",
        "  # Calculate term probabilities using relevance scores and the inverted index\n",
        "  term_probs = calculate_term_probabilities(relevance_scores, inverted_index, documents)\n",
        "\n",
        "  # Perform retrieval using the Binary Independence Model (BIM) for each query\n",
        "  for query in queries:\n",
        "    print(f\"Query: {query}\")\n",
        "    results = binary_independence_model(query, documents, term_probs, inverted_index)\n",
        "\n",
        "    # Display the top 5 relevant documents for each query\n",
        "    print(\"Top 5 relevant documents:\")\n",
        "    for doc_id, score in results[:5]:\n",
        "        print(f\"Document: {doc_id}, Score: {score}\")\n",
        "    print()\n",
        "\n",
        "  # Save the model results to a .txt file\n",
        "  model_results = {}\n",
        "  for query in queries:\n",
        "    results = binary_independence_model(query, documents, term_probs, inverted_index)\n",
        "    model_results[query] = results\n",
        "\n",
        "  # Save results to the result file\n",
        "  save_model_results(model_results, model_results_file)\n",
        "  print(f\"Model results saved to {model_results_file}\")\n",
        "\n",
        "if __name__ == \"__main__\":\n",
        "  main()\n"
      ],
      "metadata": {
        "colab": {
          "base_uri": "https://localhost:8080/"
        },
        "id": "faiV5us7OaEn",
        "outputId": "6c550ded-be38-4704-88d0-b96008116fb4"
      },
      "execution_count": 16,
      "outputs": [
        {
          "output_type": "stream",
          "name": "stdout",
          "text": [
            "Relevance scores saved to /content/drive/MyDrive/TECH 400 Information Retrieval/result/query_relevance_score.txt\n",
            "Query: electric cars under $40k\n",
            "Top 5 relevant documents:\n",
            "Document: Tesla Model S Plaid.txt, Score: 1.0\n",
            "Document: Ford F-150 Lightning.txt, Score: 1.0\n",
            "Document: Toyota RAV4 Hybrid.txt, Score: 1.0\n",
            "Document: BMW iX.txt, Score: 1.0\n",
            "Document: Mercedes-Benz EQS.txt, Score: 1.0\n",
            "\n",
            "Query: turbocharged SUVs 2024\n",
            "Top 5 relevant documents:\n",
            "Document: Lexus RX 500h.txt, Score: 1.0\n",
            "Document: Volvo XC90 Recharge.txt, Score: 1.0\n",
            "Document: Subaru Outback Wilderness.txt, Score: 1.0\n",
            "Document: Genesis GV80.txt, Score: 1.0\n",
            "Document: Jeep Grand Cherokee 4xe.txt, Score: 1.0\n",
            "\n",
            "Query: cars with adaptive cruise control\n",
            "Top 5 relevant documents:\n",
            "Document: Tesla Model S Plaid.txt, Score: 1.0\n",
            "Document: Ford F-150 Lightning.txt, Score: 1.0\n",
            "Document: BMW iX.txt, Score: 1.0\n",
            "Document: Hyundai Ioniq 6.txt, Score: 1.0\n",
            "Document: Kia EV6.txt, Score: 1.0\n",
            "\n",
            "Query: top 10 hybrid sedans\n",
            "Top 5 relevant documents:\n",
            "Document: Toyota RAV4 Hybrid.txt, Score: 1.0\n",
            "Document: Lexus RX 500h.txt, Score: 1.0\n",
            "Document: Honda Accord Hybrid.txt, Score: 0.8121440923378771\n",
            "Document: Volvo XC90 Recharge.txt, Score: 0.8121440923378771\n",
            "Document: Tesla Model S Plaid.txt, Score: 0.6014239400298903\n",
            "\n",
            "Query: most fuel-efficient SUVs\n",
            "Top 5 relevant documents:\n",
            "Document: Ford F-150 Lightning.txt, Score: 1.0\n",
            "Document: Hyundai Ioniq 6.txt, Score: 1.0\n",
            "Document: Kia EV6.txt, Score: 1.0\n",
            "Document: Tesla Model S Plaid.txt, Score: 0.7093896040170309\n",
            "Document: Toyota RAV4 Hybrid.txt, Score: 0.7093896040170309\n",
            "\n",
            "Query: luxury interiors in sedans\n",
            "Top 5 relevant documents:\n",
            "Document: Tesla Model S Plaid.txt, Score: 1.0\n",
            "Document: BMW iX.txt, Score: 1.0\n",
            "Document: Porsche Taycan Turbo S.txt, Score: 1.0\n",
            "Document: Volvo XC90 Recharge.txt, Score: 1.0\n",
            "Document: Genesis GV80.txt, Score: 1.0\n",
            "\n",
            "Query: performance cars with V6 engines\n",
            "Top 5 relevant documents:\n",
            "Document: Tesla Model S Plaid.txt, Score: 1.0\n",
            "Document: BMW iX.txt, Score: 1.0\n",
            "Document: Mercedes-Benz EQS.txt, Score: 1.0\n",
            "Document: Honda Accord Hybrid.txt, Score: 1.0\n",
            "Document: Audi e-tron GT.txt, Score: 1.0\n",
            "\n",
            "Query: advanced safety features in 2024 cars\n",
            "Top 5 relevant documents:\n",
            "Document: Ford F-150 Lightning.txt, Score: 1.0\n",
            "Document: Toyota RAV4 Hybrid.txt, Score: 1.0\n",
            "Document: BMW iX.txt, Score: 1.0\n",
            "Document: Audi e-tron GT.txt, Score: 1.0\n",
            "Document: Hyundai Ioniq 6.txt, Score: 1.0\n",
            "\n",
            "Query: eco-friendly hatchbacks\n",
            "Top 5 relevant documents:\n",
            "\n",
            "Query: automatic transmission in affordable models\n",
            "Top 5 relevant documents:\n",
            "Document: Hyundai Ioniq 6.txt, Score: 1.0\n",
            "Document: Toyota RAV4 Hybrid.txt, Score: 0.7629216861721146\n",
            "Document: Subaru Outback Wilderness.txt, Score: 0.47234962226682947\n",
            "Document: Tesla Model S Plaid.txt, Score: 0.2905720639052853\n",
            "Document: Ford F-150 Lightning.txt, Score: 0.2905720639052853\n",
            "\n",
            "Query: electric car charging speed comparison\n",
            "Top 5 relevant documents:\n",
            "Document: Tesla Model S Plaid.txt, Score: 1.0\n",
            "Document: Porsche Taycan Turbo S.txt, Score: 1.0\n",
            "Document: Audi e-tron GT.txt, Score: 0.9408597506121589\n",
            "Document: Hyundai Ioniq 6.txt, Score: 0.8797849942009389\n",
            "Document: Ford F-150 Lightning.txt, Score: 0.6450825670527174\n",
            "\n",
            "Query: mid-size SUVs with third-row seating\n",
            "Top 5 relevant documents:\n",
            "Document: Tesla Model S Plaid.txt, Score: 1.0\n",
            "Document: Ford F-150 Lightning.txt, Score: 0.7504705602171183\n",
            "Document: Toyota RAV4 Hybrid.txt, Score: 0.7504705602171183\n",
            "Document: BMW iX.txt, Score: 0.7504705602171183\n",
            "Document: Mercedes-Benz EQS.txt, Score: 0.7504705602171183\n",
            "\n",
            "Query: compact cars with premium tech features\n",
            "Top 5 relevant documents:\n",
            "Document: Tesla Model S Plaid.txt, Score: 1.0\n",
            "Document: Ford F-150 Lightning.txt, Score: 1.0\n",
            "Document: Toyota RAV4 Hybrid.txt, Score: 1.0\n",
            "Document: BMW iX.txt, Score: 1.0\n",
            "Document: Mercedes-Benz EQS.txt, Score: 1.0\n",
            "\n",
            "Query: hybrid vehicles with top fuel economy\n",
            "Top 5 relevant documents:\n",
            "Document: Lexus RX 500h.txt, Score: 1.0\n",
            "Document: Toyota RAV4 Hybrid.txt, Score: 0.7184397680502216\n",
            "Document: Honda Accord Hybrid.txt, Score: 0.5814224535252221\n",
            "Document: Volvo XC90 Recharge.txt, Score: 0.5814224535252221\n",
            "Document: Jeep Grand Cherokee 4xe.txt, Score: 0.5814224535252221\n",
            "\n",
            "Query: sports cars under $60k\n",
            "Top 5 relevant documents:\n",
            "Document: Audi e-tron GT.txt, Score: 1.0\n",
            "Document: Porsche Taycan Turbo S.txt, Score: 1.0\n",
            "Document: Tesla Model S Plaid.txt, Score: 0.0\n",
            "Document: Ford F-150 Lightning.txt, Score: 0.0\n",
            "Document: Toyota RAV4 Hybrid.txt, Score: 0.0\n",
            "\n",
            "Query: hands-free driving capabilities in 2024\n",
            "Top 5 relevant documents:\n",
            "Document: Ford F-150 Lightning.txt, Score: 1.0\n",
            "Document: Toyota RAV4 Hybrid.txt, Score: 1.0\n",
            "Document: BMW iX.txt, Score: 1.0\n",
            "Document: Honda Accord Hybrid.txt, Score: 1.0\n",
            "Document: Audi e-tron GT.txt, Score: 1.0\n",
            "\n",
            "Query: cars with the best resale value\n",
            "Top 5 relevant documents:\n",
            "Document: Tesla Model S Plaid.txt, Score: 1.0\n",
            "Document: Ford F-150 Lightning.txt, Score: 1.0\n",
            "Document: Toyota RAV4 Hybrid.txt, Score: 1.0\n",
            "Document: BMW iX.txt, Score: 1.0\n",
            "Document: Mercedes-Benz EQS.txt, Score: 1.0\n",
            "\n",
            "Query: all-wheel drive sedans\n",
            "Top 5 relevant documents:\n",
            "Document: Toyota RAV4 Hybrid.txt, Score: 1.0\n",
            "Document: BMW iX.txt, Score: 1.0\n",
            "Document: Audi e-tron GT.txt, Score: 1.0\n",
            "Document: Lexus RX 500h.txt, Score: 1.0\n",
            "Document: Genesis GV80.txt, Score: 1.0\n",
            "\n",
            "Query: electric SUVs with the longest range\n",
            "Top 5 relevant documents:\n",
            "Document: Toyota RAV4 Hybrid.txt, Score: 1.0\n",
            "Document: Honda Accord Hybrid.txt, Score: 1.0\n",
            "Document: Lexus RX 500h.txt, Score: 1.0\n",
            "Document: Tesla Model S Plaid.txt, Score: 0.6287237858967408\n",
            "Document: Ford F-150 Lightning.txt, Score: 0.6287237858967408\n",
            "\n",
            "Query: top-rated family vehicles in 2024\n",
            "Top 5 relevant documents:\n",
            "Document: Toyota RAV4 Hybrid.txt, Score: 1.0\n",
            "Document: Hyundai Ioniq 6.txt, Score: 0.6336898201616649\n",
            "Document: Tesla Model S Plaid.txt, Score: 0.18413255892014402\n",
            "Document: Ford F-150 Lightning.txt, Score: 0.18413255892014402\n",
            "Document: BMW iX.txt, Score: 0.18413255892014402\n",
            "\n",
            "Model results saved to /content/drive/MyDrive/TECH 400 Information Retrieval/result/bim_model_results.txt\n"
          ]
        }
      ]
    },
    {
      "cell_type": "code",
      "source": [],
      "metadata": {
        "id": "Ovgi0IuZPIvW"
      },
      "execution_count": null,
      "outputs": []
    }
  ]
}